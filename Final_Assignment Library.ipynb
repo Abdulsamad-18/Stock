{
 "cells": [
  {
   "cell_type": "markdown",
   "id": "99f73bd7-b29f-4ab3-8aad-51d84269f06f",
   "metadata": {},
   "source": [
    "<center>\n",
    "    <img src=\"https://cf-courses-data.s3.us.cloud-object-storage.appdomain.cloud/IBMDeveloperSkillsNetwork-PY0220EN-SkillsNetwork/labs/project/Images/SN_logo.png\" width=\"300\" alt=\"cognitiveclass.ai logo\">\n",
    "</center>\n"
   ]
  },
  {
   "cell_type": "markdown",
   "id": "4122c6ea-bac2-44d6-af4f-cfa66454f54b",
   "metadata": {},
   "source": [
    "<h1>Extracting Stock Data Using a Python Library</h1>\n"
   ]
  },
  {
   "cell_type": "markdown",
   "id": "3bf406a2-b2b3-4f50-9f8b-d3eaafc7fc58",
   "metadata": {},
   "source": [
    "A company's stock share is a piece of the company more precisely:\n",
    "<p><b>A stock (also known as equity) is a security that represents the ownership of a fraction of a corporation. This\n",
    "entitles the owner of the stock to a proportion of the corporation's assets and profits equal to how much stock they own. Units of stock are called \"shares.\" [1]</p></b>\n",
    "\n",
    "An investor can buy a stock and sell it later. If the stock price increases, the investor profits, If it decreases,the investor with incur a loss.  Determining the stock price is complex; it depends on the number of outstanding shares, the size of the company's future profits, and much more. People trade stocks throughout the day the stock ticker is a report of the price of a certain stock, updated continuously throughout the trading session by the various stock market exchanges. \n",
    "<p>You are a data scientist working for a hedge fund; it's your job to determine any suspicious stock activity. In this lab you will extract stock data using a Python library. We will use the <coode>yfinance</code> library, it allows us to extract data for stocks returning data in a pandas dataframe. You will use the lab to extract.</p>\n"
   ]
  },
  {
   "cell_type": "markdown",
   "id": "23f9e6fc-7cdb-4cf2-ba3a-f5e359b24470",
   "metadata": {},
   "source": [
    "<h2>Table of Contents</h2>\n",
    "<div class=\"alert alert-block alert-info\" style=\"margin-top: 20px\">\n",
    "    <ul>\n",
    "        <li>Using yfinance to Extract Stock Info</li>\n",
    "        <li>Using yfinance to Extract Historical Share Price Data</li>\n",
    "        <li>Using yfinance to Extract Historical Dividends Data</li>\n",
    "        <li>Exercise</li>\n",
    "    </ul>\n",
    "<p>\n",
    "    Estimated Time Needed: <strong>30 min</strong></p>\n",
    "</div>\n",
    "\n",
    "<hr>\n"
   ]
  },
  {
   "cell_type": "code",
   "execution_count": 2,
   "id": "5fda6d8b-4136-4e91-b313-7182c019e00b",
   "metadata": {},
   "outputs": [
    {
     "name": "stdout",
     "output_type": "stream",
     "text": [
      "Collecting yfinance\n",
      "  Obtaining dependency information for yfinance from https://files.pythonhosted.org/packages/39/29/89572cb0c65b07a1c4e5cd53eb0a0f947f2ece53fef6ed7da90cfab7d2a9/yfinance-0.2.43-py2.py3-none-any.whl.metadata\n",
      "  Downloading yfinance-0.2.43-py2.py3-none-any.whl.metadata (11 kB)\n",
      "Requirement already satisfied: pandas>=1.3.0 in c:\\users\\samad\\onedrive\\documents\\anaconda\\lib\\site-packages (from yfinance) (2.0.3)\n",
      "Requirement already satisfied: numpy>=1.16.5 in c:\\users\\samad\\onedrive\\documents\\anaconda\\lib\\site-packages (from yfinance) (1.24.3)\n",
      "Requirement already satisfied: requests>=2.31 in c:\\users\\samad\\onedrive\\documents\\anaconda\\lib\\site-packages (from yfinance) (2.31.0)\n",
      "Collecting multitasking>=0.0.7 (from yfinance)\n",
      "  Obtaining dependency information for multitasking>=0.0.7 from https://files.pythonhosted.org/packages/3e/8a/bb3160e76e844db9e69a413f055818969c8acade64e1a9ac5ce9dfdcf6c1/multitasking-0.0.11-py3-none-any.whl.metadata\n",
      "  Downloading multitasking-0.0.11-py3-none-any.whl.metadata (5.5 kB)\n",
      "Requirement already satisfied: lxml>=4.9.1 in c:\\users\\samad\\onedrive\\documents\\anaconda\\lib\\site-packages (from yfinance) (4.9.3)\n",
      "Requirement already satisfied: platformdirs>=2.0.0 in c:\\users\\samad\\onedrive\\documents\\anaconda\\lib\\site-packages (from yfinance) (3.10.0)\n",
      "Requirement already satisfied: pytz>=2022.5 in c:\\users\\samad\\onedrive\\documents\\anaconda\\lib\\site-packages (from yfinance) (2023.3.post1)\n",
      "Collecting frozendict>=2.3.4 (from yfinance)\n",
      "  Obtaining dependency information for frozendict>=2.3.4 from https://files.pythonhosted.org/packages/6a/71/3656c00606e75e81f11721e6a1c973c3e03da8c7d8b665d20f78245384c6/frozendict-2.4.4-py311-none-any.whl.metadata\n",
      "  Downloading frozendict-2.4.4-py311-none-any.whl.metadata (23 kB)\n",
      "Collecting peewee>=3.16.2 (from yfinance)\n",
      "  Downloading peewee-3.17.6.tar.gz (3.0 MB)\n",
      "     ---------------------------------------- 0.0/3.0 MB ? eta -:--:--\n",
      "     ---------------------------------------- 0.0/3.0 MB ? eta -:--:--\n",
      "     ---------------------------------------- 0.0/3.0 MB ? eta -:--:--\n",
      "     ---------------------------------------- 0.0/3.0 MB 660.6 kB/s eta 0:00:05\n",
      "     ---------------------------------------- 0.0/3.0 MB 660.6 kB/s eta 0:00:05\n",
      "     ---------------------------------------- 0.0/3.0 MB 660.6 kB/s eta 0:00:05\n",
      "     ---------------------------------------- 0.0/3.0 MB 660.6 kB/s eta 0:00:05\n",
      "     ---------------------------------------- 0.0/3.0 MB 660.6 kB/s eta 0:00:05\n",
      "      --------------------------------------- 0.1/3.0 MB 182.2 kB/s eta 0:00:16\n",
      "      --------------------------------------- 0.1/3.0 MB 182.2 kB/s eta 0:00:16\n",
      "     - -------------------------------------- 0.1/3.0 MB 228.2 kB/s eta 0:00:13\n",
      "     - -------------------------------------- 0.1/3.0 MB 228.2 kB/s eta 0:00:13\n",
      "     - -------------------------------------- 0.1/3.0 MB 228.2 kB/s eta 0:00:13\n",
      "     - -------------------------------------- 0.1/3.0 MB 228.2 kB/s eta 0:00:13\n",
      "     - -------------------------------------- 0.1/3.0 MB 228.2 kB/s eta 0:00:13\n",
      "     - -------------------------------------- 0.1/3.0 MB 228.2 kB/s eta 0:00:13\n",
      "     - -------------------------------------- 0.1/3.0 MB 212.6 kB/s eta 0:00:14\n",
      "     -- ------------------------------------- 0.2/3.0 MB 240.0 kB/s eta 0:00:12\n",
      "     -- ------------------------------------- 0.2/3.0 MB 268.3 kB/s eta 0:00:11\n",
      "     -- ------------------------------------- 0.2/3.0 MB 285.2 kB/s eta 0:00:10\n",
      "     --- ------------------------------------ 0.2/3.0 MB 293.0 kB/s eta 0:00:10\n",
      "     --- ------------------------------------ 0.2/3.0 MB 293.0 kB/s eta 0:00:10\n",
      "     --- ------------------------------------ 0.2/3.0 MB 293.0 kB/s eta 0:00:10\n",
      "     --- ------------------------------------ 0.2/3.0 MB 269.2 kB/s eta 0:00:11\n",
      "     --- ------------------------------------ 0.3/3.0 MB 289.1 kB/s eta 0:00:10\n",
      "     ---- ----------------------------------- 0.3/3.0 MB 311.6 kB/s eta 0:00:09\n",
      "     ---- ----------------------------------- 0.3/3.0 MB 327.7 kB/s eta 0:00:08\n",
      "     ----- ---------------------------------- 0.4/3.0 MB 352.4 kB/s eta 0:00:08\n",
      "     ----- ---------------------------------- 0.4/3.0 MB 365.4 kB/s eta 0:00:07\n",
      "     ----- ---------------------------------- 0.4/3.0 MB 369.3 kB/s eta 0:00:07\n",
      "     ------ --------------------------------- 0.5/3.0 MB 395.2 kB/s eta 0:00:07\n",
      "     ------ --------------------------------- 0.5/3.0 MB 408.6 kB/s eta 0:00:07\n",
      "     ------- -------------------------------- 0.5/3.0 MB 426.0 kB/s eta 0:00:06\n",
      "     ------- -------------------------------- 0.6/3.0 MB 439.7 kB/s eta 0:00:06\n",
      "     -------- ------------------------------- 0.6/3.0 MB 447.2 kB/s eta 0:00:06\n",
      "     -------- ------------------------------- 0.6/3.0 MB 454.3 kB/s eta 0:00:06\n",
      "     -------- ------------------------------- 0.7/3.0 MB 458.8 kB/s eta 0:00:06\n",
      "     --------- ------------------------------ 0.7/3.0 MB 479.2 kB/s eta 0:00:05\n",
      "     --------- ------------------------------ 0.7/3.0 MB 476.1 kB/s eta 0:00:05\n",
      "     ---------- ----------------------------- 0.8/3.0 MB 490.1 kB/s eta 0:00:05\n",
      "     ---------- ----------------------------- 0.8/3.0 MB 499.7 kB/s eta 0:00:05\n",
      "     ----------- ---------------------------- 0.8/3.0 MB 516.7 kB/s eta 0:00:05\n",
      "     ----------- ---------------------------- 0.9/3.0 MB 520.9 kB/s eta 0:00:04\n",
      "     ------------ --------------------------- 0.9/3.0 MB 541.2 kB/s eta 0:00:04\n",
      "     ------------- -------------------------- 1.0/3.0 MB 544.2 kB/s eta 0:00:04\n",
      "     ------------- -------------------------- 1.0/3.0 MB 547.3 kB/s eta 0:00:04\n",
      "     -------------- ------------------------- 1.0/3.0 MB 565.8 kB/s eta 0:00:04\n",
      "     -------------- ------------------------- 1.1/3.0 MB 568.0 kB/s eta 0:00:04\n",
      "     --------------- ------------------------ 1.1/3.0 MB 580.2 kB/s eta 0:00:04\n",
      "     --------------- ------------------------ 1.1/3.0 MB 576.8 kB/s eta 0:00:04\n",
      "     --------------- ------------------------ 1.2/3.0 MB 587.2 kB/s eta 0:00:04\n",
      "     ---------------- ----------------------- 1.2/3.0 MB 584.4 kB/s eta 0:00:04\n",
      "     ---------------- ----------------------- 1.2/3.0 MB 576.6 kB/s eta 0:00:04\n",
      "     ---------------- ----------------------- 1.2/3.0 MB 578.3 kB/s eta 0:00:03\n",
      "     ----------------- ---------------------- 1.3/3.0 MB 593.3 kB/s eta 0:00:03\n",
      "     ----------------- ---------------------- 1.3/3.0 MB 594.6 kB/s eta 0:00:03\n",
      "     ------------------ --------------------- 1.3/3.0 MB 591.6 kB/s eta 0:00:03\n",
      "     ------------------ --------------------- 1.4/3.0 MB 592.6 kB/s eta 0:00:03\n",
      "     ------------------ --------------------- 1.4/3.0 MB 593.8 kB/s eta 0:00:03\n",
      "     ------------------- -------------------- 1.4/3.0 MB 594.7 kB/s eta 0:00:03\n",
      "     ------------------- -------------------- 1.4/3.0 MB 595.0 kB/s eta 0:00:03\n",
      "     ------------------- -------------------- 1.4/3.0 MB 592.2 kB/s eta 0:00:03\n",
      "     ------------------- -------------------- 1.4/3.0 MB 592.2 kB/s eta 0:00:03\n",
      "     ------------------- -------------------- 1.5/3.0 MB 581.6 kB/s eta 0:00:03\n",
      "     ------------------- -------------------- 1.5/3.0 MB 571.6 kB/s eta 0:00:03\n",
      "     -------------------- ------------------- 1.5/3.0 MB 572.6 kB/s eta 0:00:03\n",
      "     -------------------- ------------------- 1.5/3.0 MB 572.6 kB/s eta 0:00:03\n",
      "     -------------------- ------------------- 1.5/3.0 MB 571.6 kB/s eta 0:00:03\n",
      "     -------------------- ------------------- 1.5/3.0 MB 571.6 kB/s eta 0:00:03\n",
      "     --------------------- ------------------ 1.6/3.0 MB 559.2 kB/s eta 0:00:03\n",
      "     --------------------- ------------------ 1.6/3.0 MB 560.3 kB/s eta 0:00:03\n",
      "     --------------------- ------------------ 1.6/3.0 MB 558.3 kB/s eta 0:00:03\n",
      "     --------------------- ------------------ 1.6/3.0 MB 556.3 kB/s eta 0:00:03\n",
      "     ---------------------- ----------------- 1.6/3.0 MB 560.9 kB/s eta 0:00:03\n",
      "     ---------------------- ----------------- 1.7/3.0 MB 558.9 kB/s eta 0:00:03\n",
      "     ---------------------- ----------------- 1.7/3.0 MB 556.4 kB/s eta 0:00:03\n",
      "     ----------------------- ---------------- 1.7/3.0 MB 552.3 kB/s eta 0:00:03\n",
      "     ----------------------- ---------------- 1.7/3.0 MB 553.8 kB/s eta 0:00:03\n",
      "     ----------------------- ---------------- 1.8/3.0 MB 554.8 kB/s eta 0:00:03\n",
      "     ------------------------ --------------- 1.8/3.0 MB 555.9 kB/s eta 0:00:03\n",
      "     ------------------------ --------------- 1.8/3.0 MB 560.0 kB/s eta 0:00:03\n",
      "     ------------------------ --------------- 1.8/3.0 MB 558.3 kB/s eta 0:00:03\n",
      "     ------------------------- -------------- 1.9/3.0 MB 559.6 kB/s eta 0:00:02\n",
      "     ------------------------- -------------- 1.9/3.0 MB 560.9 kB/s eta 0:00:02\n",
      "     -------------------------- ------------- 1.9/3.0 MB 564.9 kB/s eta 0:00:02\n",
      "     -------------------------- ------------- 1.9/3.0 MB 563.1 kB/s eta 0:00:02\n",
      "     -------------------------- ------------- 2.0/3.0 MB 564.3 kB/s eta 0:00:02\n",
      "     --------------------------- ------------ 2.0/3.0 MB 565.5 kB/s eta 0:00:02\n",
      "     --------------------------- ------------ 2.0/3.0 MB 568.9 kB/s eta 0:00:02\n",
      "     --------------------------- ------------ 2.0/3.0 MB 564.3 kB/s eta 0:00:02\n",
      "     ---------------------------- ----------- 2.1/3.0 MB 568.3 kB/s eta 0:00:02\n",
      "     ---------------------------- ----------- 2.1/3.0 MB 566.9 kB/s eta 0:00:02\n",
      "     ---------------------------- ----------- 2.1/3.0 MB 565.2 kB/s eta 0:00:02\n",
      "     ----------------------------- ---------- 2.2/3.0 MB 569.2 kB/s eta 0:00:02\n",
      "     ----------------------------- ---------- 2.2/3.0 MB 569.5 kB/s eta 0:00:02\n",
      "     ----------------------------- ---------- 2.2/3.0 MB 570.5 kB/s eta 0:00:02\n",
      "     ------------------------------ --------- 2.3/3.0 MB 574.1 kB/s eta 0:00:02\n",
      "     ------------------------------ --------- 2.3/3.0 MB 574.1 kB/s eta 0:00:02\n",
      "     ------------------------------- -------- 2.3/3.0 MB 573.4 kB/s eta 0:00:02\n",
      "     ------------------------------- -------- 2.3/3.0 MB 576.4 kB/s eta 0:00:02\n",
      "     ------------------------------- -------- 2.4/3.0 MB 575.0 kB/s eta 0:00:02\n",
      "     ------------------------------- -------- 2.4/3.0 MB 575.0 kB/s eta 0:00:02\n",
      "     ------------------------------- -------- 2.4/3.0 MB 575.0 kB/s eta 0:00:02\n",
      "     -------------------------------- ------- 2.4/3.0 MB 562.8 kB/s eta 0:00:02\n",
      "     -------------------------------- ------- 2.4/3.0 MB 562.8 kB/s eta 0:00:02\n",
      "     -------------------------------- ------- 2.4/3.0 MB 559.7 kB/s eta 0:00:01\n",
      "     --------------------------------- ------ 2.4/3.0 MB 560.7 kB/s eta 0:00:01\n",
      "     --------------------------------- ------ 2.5/3.0 MB 563.5 kB/s eta 0:00:01\n",
      "     --------------------------------- ------ 2.5/3.0 MB 559.8 kB/s eta 0:00:01\n",
      "     --------------------------------- ------ 2.5/3.0 MB 558.8 kB/s eta 0:00:01\n",
      "     ---------------------------------- ----- 2.5/3.0 MB 559.5 kB/s eta 0:00:01\n",
      "     ---------------------------------- ----- 2.5/3.0 MB 560.5 kB/s eta 0:00:01\n",
      "     ---------------------------------- ----- 2.6/3.0 MB 561.2 kB/s eta 0:00:01\n",
      "     ---------------------------------- ----- 2.6/3.0 MB 559.6 kB/s eta 0:00:01\n",
      "     ----------------------------------- ---- 2.6/3.0 MB 560.8 kB/s eta 0:00:01\n",
      "     ----------------------------------- ---- 2.6/3.0 MB 561.5 kB/s eta 0:00:01\n",
      "     ------------------------------------ --- 2.7/3.0 MB 564.3 kB/s eta 0:00:01\n",
      "     ------------------------------------ --- 2.7/3.0 MB 565.2 kB/s eta 0:00:01\n",
      "     ------------------------------------ --- 2.7/3.0 MB 565.2 kB/s eta 0:00:01\n",
      "     ------------------------------------- -- 2.7/3.0 MB 564.2 kB/s eta 0:00:01\n",
      "     ------------------------------------- -- 2.8/3.0 MB 563.3 kB/s eta 0:00:01\n",
      "     ------------------------------------- -- 2.8/3.0 MB 568.1 kB/s eta 0:00:01\n",
      "     -------------------------------------- - 2.8/3.0 MB 566.5 kB/s eta 0:00:01\n",
      "     -------------------------------------- - 2.8/3.0 MB 563.6 kB/s eta 0:00:01\n",
      "     -------------------------------------- - 2.8/3.0 MB 563.6 kB/s eta 0:00:01\n",
      "     -------------------------------------- - 2.8/3.0 MB 563.6 kB/s eta 0:00:01\n",
      "     -------------------------------------- - 2.8/3.0 MB 563.6 kB/s eta 0:00:01\n",
      "     -------------------------------------- - 2.8/3.0 MB 563.6 kB/s eta 0:00:01\n",
      "     -------------------------------------- - 2.8/3.0 MB 545.2 kB/s eta 0:00:01\n",
      "     -------------------------------------- - 2.9/3.0 MB 542.6 kB/s eta 0:00:01\n",
      "     ---------------------------------------  2.9/3.0 MB 544.9 kB/s eta 0:00:01\n",
      "     ---------------------------------------  2.9/3.0 MB 542.0 kB/s eta 0:00:01\n",
      "     ---------------------------------------  2.9/3.0 MB 541.4 kB/s eta 0:00:01\n",
      "     ---------------------------------------  2.9/3.0 MB 542.1 kB/s eta 0:00:01\n",
      "     ---------------------------------------- 3.0/3.0 MB 539.9 kB/s eta 0:00:00\n",
      "  Installing build dependencies: started\n",
      "  Installing build dependencies: finished with status 'done'\n",
      "  Getting requirements to build wheel: started\n",
      "  Getting requirements to build wheel: finished with status 'done'\n",
      "  Preparing metadata (pyproject.toml): started\n",
      "  Preparing metadata (pyproject.toml): finished with status 'done'\n",
      "Requirement already satisfied: beautifulsoup4>=4.11.1 in c:\\users\\samad\\onedrive\\documents\\anaconda\\lib\\site-packages (from yfinance) (4.12.2)\n",
      "Collecting html5lib>=1.1 (from yfinance)\n",
      "  Obtaining dependency information for html5lib>=1.1 from https://files.pythonhosted.org/packages/6c/dd/a834df6482147d48e225a49515aabc28974ad5a4ca3215c18a882565b028/html5lib-1.1-py2.py3-none-any.whl.metadata\n",
      "  Downloading html5lib-1.1-py2.py3-none-any.whl.metadata (16 kB)\n",
      "Requirement already satisfied: soupsieve>1.2 in c:\\users\\samad\\onedrive\\documents\\anaconda\\lib\\site-packages (from beautifulsoup4>=4.11.1->yfinance) (2.4)\n",
      "Requirement already satisfied: six>=1.9 in c:\\users\\samad\\onedrive\\documents\\anaconda\\lib\\site-packages (from html5lib>=1.1->yfinance) (1.16.0)\n",
      "Requirement already satisfied: webencodings in c:\\users\\samad\\onedrive\\documents\\anaconda\\lib\\site-packages (from html5lib>=1.1->yfinance) (0.5.1)\n",
      "Requirement already satisfied: python-dateutil>=2.8.2 in c:\\users\\samad\\onedrive\\documents\\anaconda\\lib\\site-packages (from pandas>=1.3.0->yfinance) (2.8.2)\n",
      "Requirement already satisfied: tzdata>=2022.1 in c:\\users\\samad\\onedrive\\documents\\anaconda\\lib\\site-packages (from pandas>=1.3.0->yfinance) (2023.3)\n",
      "Requirement already satisfied: charset-normalizer<4,>=2 in c:\\users\\samad\\onedrive\\documents\\anaconda\\lib\\site-packages (from requests>=2.31->yfinance) (2.0.4)\n",
      "Requirement already satisfied: idna<4,>=2.5 in c:\\users\\samad\\onedrive\\documents\\anaconda\\lib\\site-packages (from requests>=2.31->yfinance) (3.4)\n",
      "Requirement already satisfied: urllib3<3,>=1.21.1 in c:\\users\\samad\\onedrive\\documents\\anaconda\\lib\\site-packages (from requests>=2.31->yfinance) (1.26.16)\n",
      "Requirement already satisfied: certifi>=2017.4.17 in c:\\users\\samad\\onedrive\\documents\\anaconda\\lib\\site-packages (from requests>=2.31->yfinance) (2023.7.22)\n",
      "Downloading yfinance-0.2.43-py2.py3-none-any.whl (84 kB)\n",
      "   ---------------------------------------- 0.0/84.6 kB ? eta -:--:--\n",
      "   -------------- ------------------------- 30.7/84.6 kB 1.3 MB/s eta 0:00:01\n",
      "   ------------------- -------------------- 41.0/84.6 kB 653.6 kB/s eta 0:00:01\n",
      "   -------------------------------------- - 81.9/84.6 kB 651.6 kB/s eta 0:00:01\n",
      "   ---------------------------------------- 84.6/84.6 kB 594.5 kB/s eta 0:00:00\n",
      "Downloading frozendict-2.4.4-py311-none-any.whl (16 kB)\n",
      "Downloading html5lib-1.1-py2.py3-none-any.whl (112 kB)\n",
      "   ---------------------------------------- 0.0/112.2 kB ? eta -:--:--\n",
      "   ---------- ----------------------------- 30.7/112.2 kB 1.3 MB/s eta 0:00:01\n",
      "   -------------- ------------------------ 41.0/112.2 kB 991.0 kB/s eta 0:00:01\n",
      "   --------------------- ----------------- 61.4/112.2 kB 656.4 kB/s eta 0:00:01\n",
      "   ---------------------------- ---------- 81.9/112.2 kB 651.6 kB/s eta 0:00:01\n",
      "   -------------------------------- ------ 92.2/112.2 kB 435.7 kB/s eta 0:00:01\n",
      "   ---------------------------------- --- 102.4/112.2 kB 392.2 kB/s eta 0:00:01\n",
      "   -------------------------------------- 112.2/112.2 kB 433.8 kB/s eta 0:00:00\n",
      "Downloading multitasking-0.0.11-py3-none-any.whl (8.5 kB)\n",
      "Building wheels for collected packages: peewee\n",
      "  Building wheel for peewee (pyproject.toml): started\n",
      "  Building wheel for peewee (pyproject.toml): finished with status 'done'\n",
      "  Created wheel for peewee: filename=peewee-3.17.6-py3-none-any.whl size=138939 sha256=de56f655ce2048e97d4b37cb113ec95386e2b130b231096c961bbfca09b3e414\n",
      "  Stored in directory: c:\\users\\samad\\appdata\\local\\pip\\cache\\wheels\\1c\\09\\7e\\9f659fde248ecdc1722a142c1d744271aad3914a0afc191058\n",
      "Successfully built peewee\n",
      "Installing collected packages: peewee, multitasking, html5lib, frozendict, yfinance\n",
      "Successfully installed frozendict-2.4.4 html5lib-1.1 multitasking-0.0.11 peewee-3.17.6 yfinance-0.2.43\n"
     ]
    },
    {
     "name": "stdout",
     "output_type": "stream",
     "text": [
      "Requirement already satisfied: pandas in c:\\users\\samad\\onedrive\\documents\\anaconda\\lib\\site-packages (2.0.3)\n",
      "Requirement already satisfied: python-dateutil>=2.8.2 in c:\\users\\samad\\onedrive\\documents\\anaconda\\lib\\site-packages (from pandas) (2.8.2)\n",
      "Requirement already satisfied: pytz>=2020.1 in c:\\users\\samad\\onedrive\\documents\\anaconda\\lib\\site-packages (from pandas) (2023.3.post1)\n",
      "Requirement already satisfied: tzdata>=2022.1 in c:\\users\\samad\\onedrive\\documents\\anaconda\\lib\\site-packages (from pandas) (2023.3)\n",
      "Requirement already satisfied: numpy>=1.21.0 in c:\\users\\samad\\onedrive\\documents\\anaconda\\lib\\site-packages (from pandas) (1.24.3)\n",
      "Requirement already satisfied: six>=1.5 in c:\\users\\samad\\onedrive\\documents\\anaconda\\lib\\site-packages (from python-dateutil>=2.8.2->pandas) (1.16.0)\n",
      "Requirement already satisfied: matplotlib in c:\\users\\samad\\onedrive\\documents\\anaconda\\lib\\site-packages (3.7.2)\n",
      "Requirement already satisfied: contourpy>=1.0.1 in c:\\users\\samad\\onedrive\\documents\\anaconda\\lib\\site-packages (from matplotlib) (1.0.5)\n",
      "Requirement already satisfied: cycler>=0.10 in c:\\users\\samad\\onedrive\\documents\\anaconda\\lib\\site-packages (from matplotlib) (0.11.0)\n",
      "Requirement already satisfied: fonttools>=4.22.0 in c:\\users\\samad\\onedrive\\documents\\anaconda\\lib\\site-packages (from matplotlib) (4.25.0)\n",
      "Requirement already satisfied: kiwisolver>=1.0.1 in c:\\users\\samad\\onedrive\\documents\\anaconda\\lib\\site-packages (from matplotlib) (1.4.4)\n",
      "Requirement already satisfied: numpy>=1.20 in c:\\users\\samad\\onedrive\\documents\\anaconda\\lib\\site-packages (from matplotlib) (1.24.3)\n",
      "Requirement already satisfied: packaging>=20.0 in c:\\users\\samad\\onedrive\\documents\\anaconda\\lib\\site-packages (from matplotlib) (23.1)\n",
      "Requirement already satisfied: pillow>=6.2.0 in c:\\users\\samad\\onedrive\\documents\\anaconda\\lib\\site-packages (from matplotlib) (9.4.0)\n",
      "Requirement already satisfied: pyparsing<3.1,>=2.3.1 in c:\\users\\samad\\onedrive\\documents\\anaconda\\lib\\site-packages (from matplotlib) (3.0.9)\n",
      "Requirement already satisfied: python-dateutil>=2.7 in c:\\users\\samad\\onedrive\\documents\\anaconda\\lib\\site-packages (from matplotlib) (2.8.2)\n",
      "Requirement already satisfied: six>=1.5 in c:\\users\\samad\\onedrive\\documents\\anaconda\\lib\\site-packages (from python-dateutil>=2.7->matplotlib) (1.16.0)\n"
     ]
    }
   ],
   "source": [
    "!pip install yfinance\n",
    "!pip install pandas\n",
    "!pip install matplotlib"
   ]
  },
  {
   "cell_type": "code",
   "execution_count": 3,
   "id": "d4022128-9d08-4c69-9513-417ba9b81d5d",
   "metadata": {},
   "outputs": [],
   "source": [
    "import yfinance as yf\n",
    "import pandas as pd\n",
    "import matplotlib_inline"
   ]
  },
  {
   "cell_type": "markdown",
   "id": "00fd268e-3bf4-448e-b720-0be2b521f6ce",
   "metadata": {},
   "source": [
    "## Using the yfinance Library to Extract Stock Data\n"
   ]
  },
  {
   "cell_type": "markdown",
   "id": "c7f6b192-9564-402f-85df-f0dd168a0d6c",
   "metadata": {},
   "source": [
    "Using the `Ticker` module we can create an object that will allow us to access functions to extract data. To do this we need to provide the ticker symbol for the stock, here the company is Apple and the ticker symbol is `AAPL`.\n"
   ]
  },
  {
   "cell_type": "code",
   "execution_count": 4,
   "id": "569adc86-c0a3-46d5-9cfa-d89042ae7992",
   "metadata": {},
   "outputs": [],
   "source": [
    "apple = yf.Ticker(\"AAPL\")"
   ]
  },
  {
   "cell_type": "markdown",
   "id": "320c29db-cc50-4041-9564-49a8c4192e49",
   "metadata": {},
   "source": [
    "Now we can access functions and variables to extract the type of data we need. You can view them and what they represent here https://aroussi.com/post/python-yahoo-finance.\n"
   ]
  },
  {
   "cell_type": "code",
   "execution_count": 5,
   "id": "e81d48b2-c9e0-4a49-a801-5c6223e1e01e",
   "metadata": {},
   "outputs": [
    {
     "name": "stderr",
     "output_type": "stream",
     "text": [
      "'wget' is not recognized as an internal or external command,\n",
      "operable program or batch file.\n"
     ]
    }
   ],
   "source": [
    "!wget https://cf-courses-data.s3.us.cloud-object-storage.appdomain.cloud/IBMDeveloperSkillsNetwork-PY0220EN-SkillsNetwork/data/apple.json"
   ]
  },
  {
   "cell_type": "markdown",
   "id": "27381fe5-2b26-4e5d-9564-77f08dbb187f",
   "metadata": {},
   "source": [
    "### Stock Info\n"
   ]
  },
  {
   "cell_type": "markdown",
   "id": "0dd03076-40fb-4bb7-85a9-88e39a215266",
   "metadata": {},
   "source": [
    "Using the attribute  <code>info</code> we can extract information about the stock as a Python dictionary.\n"
   ]
  },
  {
   "cell_type": "code",
   "execution_count": 6,
   "id": "b932c60e-834e-448e-b088-b1e708a13d93",
   "metadata": {},
   "outputs": [
    {
     "ename": "FileNotFoundError",
     "evalue": "[Errno 2] No such file or directory: 'apple.json'",
     "output_type": "error",
     "traceback": [
      "\u001b[1;31m---------------------------------------------------------------------------\u001b[0m",
      "\u001b[1;31mFileNotFoundError\u001b[0m                         Traceback (most recent call last)",
      "Cell \u001b[1;32mIn[6], line 2\u001b[0m\n\u001b[0;32m      1\u001b[0m \u001b[38;5;28;01mimport\u001b[39;00m \u001b[38;5;21;01mjson\u001b[39;00m\n\u001b[1;32m----> 2\u001b[0m \u001b[38;5;28;01mwith\u001b[39;00m \u001b[38;5;28mopen\u001b[39m(\u001b[38;5;124m'\u001b[39m\u001b[38;5;124mapple.json\u001b[39m\u001b[38;5;124m'\u001b[39m) \u001b[38;5;28;01mas\u001b[39;00m json_file:\n\u001b[0;32m      3\u001b[0m     apple_info \u001b[38;5;241m=\u001b[39m json\u001b[38;5;241m.\u001b[39mload(json_file)\n\u001b[0;32m      4\u001b[0m     \u001b[38;5;66;03m# Print the type of data variable    \u001b[39;00m\n\u001b[0;32m      5\u001b[0m     \u001b[38;5;66;03m#print(\"Type:\", type(apple_info))\u001b[39;00m\n",
      "File \u001b[1;32m~\\OneDrive\\Documents\\Anaconda\\Lib\\site-packages\\IPython\\core\\interactiveshell.py:286\u001b[0m, in \u001b[0;36m_modified_open\u001b[1;34m(file, *args, **kwargs)\u001b[0m\n\u001b[0;32m    279\u001b[0m \u001b[38;5;28;01mif\u001b[39;00m file \u001b[38;5;129;01min\u001b[39;00m {\u001b[38;5;241m0\u001b[39m, \u001b[38;5;241m1\u001b[39m, \u001b[38;5;241m2\u001b[39m}:\n\u001b[0;32m    280\u001b[0m     \u001b[38;5;28;01mraise\u001b[39;00m \u001b[38;5;167;01mValueError\u001b[39;00m(\n\u001b[0;32m    281\u001b[0m         \u001b[38;5;124mf\u001b[39m\u001b[38;5;124m\"\u001b[39m\u001b[38;5;124mIPython won\u001b[39m\u001b[38;5;124m'\u001b[39m\u001b[38;5;124mt let you open fd=\u001b[39m\u001b[38;5;132;01m{\u001b[39;00mfile\u001b[38;5;132;01m}\u001b[39;00m\u001b[38;5;124m by default \u001b[39m\u001b[38;5;124m\"\u001b[39m\n\u001b[0;32m    282\u001b[0m         \u001b[38;5;124m\"\u001b[39m\u001b[38;5;124mas it is likely to crash IPython. If you know what you are doing, \u001b[39m\u001b[38;5;124m\"\u001b[39m\n\u001b[0;32m    283\u001b[0m         \u001b[38;5;124m\"\u001b[39m\u001b[38;5;124myou can use builtins\u001b[39m\u001b[38;5;124m'\u001b[39m\u001b[38;5;124m open.\u001b[39m\u001b[38;5;124m\"\u001b[39m\n\u001b[0;32m    284\u001b[0m     )\n\u001b[1;32m--> 286\u001b[0m \u001b[38;5;28;01mreturn\u001b[39;00m io_open(file, \u001b[38;5;241m*\u001b[39margs, \u001b[38;5;241m*\u001b[39m\u001b[38;5;241m*\u001b[39mkwargs)\n",
      "\u001b[1;31mFileNotFoundError\u001b[0m: [Errno 2] No such file or directory: 'apple.json'"
     ]
    }
   ],
   "source": [
    "import json\n",
    "with open('apple.json') as json_file:\n",
    "    apple_info = json.load(json_file)\n",
    "    # Print the type of data variable    \n",
    "    #print(\"Type:\", type(apple_info))\n",
    "apple_info"
   ]
  },
  {
   "cell_type": "markdown",
   "id": "f678456a-45fd-406d-b97b-954d603e0402",
   "metadata": {},
   "source": [
    "We can get the <code>'country'</code> using the key country\n"
   ]
  },
  {
   "cell_type": "code",
   "execution_count": null,
   "id": "d52d1930-06e2-4de4-964e-ede1b5c2d6d7",
   "metadata": {},
   "outputs": [],
   "source": [
    "apple_info['country']"
   ]
  },
  {
   "cell_type": "markdown",
   "id": "280a9764-39e4-4097-ae34-942eb36bd609",
   "metadata": {},
   "source": [
    "### Extracting Share Price\n"
   ]
  },
  {
   "cell_type": "markdown",
   "id": "e680b764-df86-4a90-a9a0-3af1cf08c263",
   "metadata": {},
   "source": [
    "A share is the single smallest part of a company's stock  that you can buy, the prices of these shares fluctuate over time. Using the <code>history()</code> method we can get the share price of the stock over a certain period of time. Using the `period` parameter we can set how far back from the present to get data. The options for `period` are 1 day (1d), 5d, 1 month (1mo) , 3mo, 6mo, 1 year (1y), 2y, 5y, 10y, ytd, and max.\n"
   ]
  },
  {
   "cell_type": "code",
   "execution_count": null,
   "id": "6050f96e-fd64-4583-b45d-167e43ebd9fb",
   "metadata": {},
   "outputs": [],
   "source": [
    "apple_share_price_data = apple.history(period=\"max\")"
   ]
  },
  {
   "cell_type": "markdown",
   "id": "7966d941-2458-49dc-acd4-a4ef88f7a8dd",
   "metadata": {},
   "source": [
    "The format that the data is returned in is a Pandas DataFrame. With the `Date` as the index the share `Open`, `High`, `Low`, `Close`, `Volume`, and `Stock Splits` are given for each day.\n"
   ]
  },
  {
   "cell_type": "code",
   "execution_count": null,
   "id": "c0307078-c93c-4e67-a0da-1c0a7b7ec059",
   "metadata": {},
   "outputs": [],
   "source": [
    "apple_share_price_data.head()"
   ]
  },
  {
   "cell_type": "markdown",
   "id": "cc6d1471-c998-4081-9fd0-d3c0a883a167",
   "metadata": {},
   "source": [
    "We can reset the index of the DataFrame with the `reset_index` function. We also set the `inplace` paramter to `True` so the change takes place to the DataFrame itself.\n"
   ]
  },
  {
   "cell_type": "code",
   "execution_count": null,
   "id": "f16338c4-4a9a-4e4d-8af2-aed3eb47a017",
   "metadata": {},
   "outputs": [],
   "source": [
    "apple_share_price_data.reset_index(inplace=True)"
   ]
  },
  {
   "cell_type": "markdown",
   "id": "31a67eee-d930-4520-8b35-a98ed5f9bc05",
   "metadata": {},
   "source": [
    "We can plot the `Open` price against the `Date`:\n"
   ]
  },
  {
   "cell_type": "code",
   "execution_count": null,
   "id": "f6b21ec2-e2cb-4a45-bfc4-6f4eaec45681",
   "metadata": {},
   "outputs": [],
   "source": [
    "apple_share_price_data.plot(x=\"Date\", y=\"Open\")"
   ]
  },
  {
   "cell_type": "markdown",
   "id": "4e66ccd6-8267-4aee-abea-cb7cb8373963",
   "metadata": {},
   "source": [
    "### Extracting Dividends\n"
   ]
  },
  {
   "cell_type": "markdown",
   "id": "7d41c9bb-b79e-4b8a-891e-291e92a97f4a",
   "metadata": {},
   "source": [
    "Dividends are the distribution of a companys profits to shareholders. In this case they are defined as an amount of money returned per share an investor owns. Using the variable `dividends` we can get a dataframe of the data. The period of the data is given by the period defined in the 'history` function.\n"
   ]
  },
  {
   "cell_type": "code",
   "execution_count": null,
   "id": "e6b5c902-e0da-4ea2-87d3-64ae5e0761b0",
   "metadata": {},
   "outputs": [],
   "source": [
    "apple.dividends"
   ]
  },
  {
   "cell_type": "markdown",
   "id": "8b285eb8-b9c1-4449-9801-e64403dd6ef9",
   "metadata": {},
   "source": [
    "We can plot the dividends overtime:\n"
   ]
  },
  {
   "cell_type": "code",
   "execution_count": null,
   "id": "e9bbc688-6449-401d-bf65-902ab86d1175",
   "metadata": {},
   "outputs": [],
   "source": [
    "apple.dividends.plot()"
   ]
  },
  {
   "cell_type": "markdown",
   "id": "2c6f951a-e389-4804-ab33-e73233bf1736",
   "metadata": {},
   "source": [
    "## Exercise \n"
   ]
  },
  {
   "cell_type": "markdown",
   "id": "efd43d80-25dc-49d3-95ea-ad4258e3e849",
   "metadata": {},
   "source": [
    "Now using the `Ticker` module create an object for AMD (Advanced Micro Devices) with the ticker symbol is `AMD` called; name the object <code>amd</code>.\n"
   ]
  },
  {
   "cell_type": "code",
   "execution_count": null,
   "id": "1d43b2e6-f595-4e4f-ae85-5cd94d62f644",
   "metadata": {},
   "outputs": [],
   "source": []
  },
  {
   "cell_type": "code",
   "execution_count": null,
   "id": "b41ec1d2-86af-4e72-aa50-c370ed8e014c",
   "metadata": {},
   "outputs": [],
   "source": [
    "!wget https://cf-courses-data.s3.us.cloud-object-storage.appdomain.cloud/IBMDeveloperSkillsNetwork-PY0220EN-SkillsNetwork/data/amd.json"
   ]
  },
  {
   "cell_type": "code",
   "execution_count": null,
   "id": "a3a90d7a-1d38-4107-9340-4e93b93aef66",
   "metadata": {},
   "outputs": [],
   "source": [
    "import json\n",
    "with open('amd.json') as json_file:\n",
    "    amd_info = json.load(json_file)\n",
    "    # Print the type of data variable    \n",
    "    #print(\"Type:\", type(apple_info))\n",
    "amd_info"
   ]
  },
  {
   "cell_type": "markdown",
   "id": "9bbb05fc-c55b-4a3a-bc0c-f5e6104c75bc",
   "metadata": {},
   "source": [
    "<b>Question 1</b> Use the key  <code>'country'</code> to find the country the stock belongs to, remember it as it will be a quiz question.\n"
   ]
  },
  {
   "cell_type": "code",
   "execution_count": null,
   "id": "5d6a1ad5-19c7-430c-8879-021467170855",
   "metadata": {},
   "outputs": [],
   "source": []
  },
  {
   "cell_type": "markdown",
   "id": "5c1924f0-f1af-4941-a9ef-d0d6a23a8b5a",
   "metadata": {},
   "source": [
    "<b>Question 2</b> Use the key  <code>'sector'</code> to find the sector the stock belongs to, remember it as it will be a quiz question.\n"
   ]
  },
  {
   "cell_type": "code",
   "execution_count": null,
   "id": "e5ca828d-c5df-491d-8093-a18ba07e45fc",
   "metadata": {},
   "outputs": [],
   "source": []
  },
  {
   "cell_type": "markdown",
   "id": "9fc8c742-a539-4c6d-8634-2c2c4cbe480f",
   "metadata": {},
   "source": [
    "<b>Question 3</b> Obtain stock data for AMD using the `history` function, set the `period` to max. Find the `Volume` traded on the first day (first row).\n"
   ]
  },
  {
   "cell_type": "code",
   "execution_count": null,
   "id": "ab0896c2-078d-4816-bdf7-d2feab4ae316",
   "metadata": {},
   "outputs": [],
   "source": []
  },
  {
   "cell_type": "markdown",
   "id": "ef7e6917-15d6-48e6-8abe-67b66ab97b46",
   "metadata": {},
   "source": [
    "<h2>About the Authors:</h2> \n",
    "\n",
    "<a href=\"https://www.linkedin.com/in/joseph-s-50398b136/\">Joseph Santarcangelo</a> has a PhD in Electrical Engineering, his research focused on using machine learning, signal processing, and computer vision to determine how videos impact human cognition. Joseph has been working for IBM since he completed his PhD.\n",
    "\n",
    "Azim Hirjani\n"
   ]
  },
  {
   "cell_type": "markdown",
   "id": "02f99245-1e95-4e53-8f27-8b69f1f9f28c",
   "metadata": {},
   "source": [
    "## <h3 align=\"center\"> © IBM Corporation 2020. All rights reserved. <h3/>\n"
   ]
  },
  {
   "cell_type": "markdown",
   "id": "78f49e69-c21f-48bb-bfa0-ca6dcec99974",
   "metadata": {},
   "source": [
    "<!--## Change Log\n",
    "\n",
    "| Date (YYYY-MM-DD) | Version | Changed By    | Change Description        |\n",
    "| ----------------- | ------- | ------------- | ------------------------- |\n",
    "| 2020-11-10        | 1.1     | Malika Singla | Deleted the Optional part |\n",
    "| 2020-08-27        | 1.0     | Malika Singla | Added lab to GitLab       |\n",
    "\n",
    "<hr>\n",
    "<p>\n",
    "--!>\n"
   ]
  }
 ],
 "metadata": {
  "kernelspec": {
   "display_name": "Python 3 (ipykernel)",
   "language": "python",
   "name": "python3"
  },
  "language_info": {
   "codemirror_mode": {
    "name": "ipython",
    "version": 3
   },
   "file_extension": ".py",
   "mimetype": "text/x-python",
   "name": "python",
   "nbconvert_exporter": "python",
   "pygments_lexer": "ipython3",
   "version": "3.11.5"
  },
  "prev_pub_hash": "660ea41267af378af1b87f015ad0e76833cde9ca552964b4ed464ff4a8f5a6f7"
 },
 "nbformat": 4,
 "nbformat_minor": 4
}
